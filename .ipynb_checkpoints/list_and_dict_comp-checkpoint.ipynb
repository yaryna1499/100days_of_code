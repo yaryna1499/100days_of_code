{
 "cells": [
  {
   "cell_type": "markdown",
   "id": "38509e97",
   "metadata": {},
   "source": [
    "### List comprehension"
   ]
  },
  {
   "cell_type": "code",
   "execution_count": 1,
   "id": "8b833e74",
   "metadata": {},
   "outputs": [
    {
     "data": {
      "text/plain": [
       "['1', '2', '3', '4', '5', '6', '7', '8', '9']"
      ]
     },
     "execution_count": 1,
     "metadata": {},
     "output_type": "execute_result"
    }
   ],
   "source": [
    "new_list = [str(i) for i in range(1, 10)]\n",
    "new_list"
   ]
  },
  {
   "cell_type": "code",
   "execution_count": 2,
   "id": "d84c4889",
   "metadata": {},
   "outputs": [
    {
     "data": {
      "text/plain": [
       "[4, 16, 36, 64]"
      ]
     },
     "execution_count": 2,
     "metadata": {},
     "output_type": "execute_result"
    }
   ],
   "source": [
    "new_list2 = [i**2 for i in range(1, 10) if i%2==0]\n",
    "new_list2"
   ]
  },
  {
   "cell_type": "markdown",
   "id": "87109d0a",
   "metadata": {},
   "source": [
    "### Dictionary comprehension\n",
    "new_dict = {new_key:new_value for item in list}\n",
    "<br>\n",
    "new_dict = {new_key:new_value for (key, value) in dict.items()}\n",
    "<br>\n",
    "new_dict = {new_key:new_value for (key, value) in dict.items() if test}"
   ]
  },
  {
   "cell_type": "code",
   "execution_count": 3,
   "id": "0821f20f",
   "metadata": {},
   "outputs": [],
   "source": [
    "names = [\"name1\", \"name2\", \"name3\", \"name4\"]"
   ]
  },
  {
   "cell_type": "code",
   "execution_count": 4,
   "id": "2ceb0ca6",
   "metadata": {},
   "outputs": [],
   "source": [
    "import random"
   ]
  },
  {
   "cell_type": "code",
   "execution_count": 5,
   "id": "ba5002b7",
   "metadata": {},
   "outputs": [
    {
     "data": {
      "text/plain": [
       "{'name1': 69, 'name2': 78, 'name3': 50, 'name4': 22}"
      ]
     },
     "execution_count": 5,
     "metadata": {},
     "output_type": "execute_result"
    }
   ],
   "source": [
    "students_score = {student: random.randint(1, 100) for student in names}\n",
    "students_score"
   ]
  },
  {
   "cell_type": "code",
   "execution_count": 8,
   "id": "cde7a6b7",
   "metadata": {},
   "outputs": [
    {
     "name": "stdout",
     "output_type": "stream",
     "text": [
      "dict_items([('name1', 69), ('name2', 78), ('name3', 50), ('name4', 22)])\n"
     ]
    },
    {
     "data": {
      "text/plain": [
       "dict_items"
      ]
     },
     "execution_count": 8,
     "metadata": {},
     "output_type": "execute_result"
    }
   ],
   "source": [
    "print(students_score.items())\n",
    "type(students_score.items())"
   ]
  },
  {
   "cell_type": "code",
   "execution_count": 14,
   "id": "c5c29f2b",
   "metadata": {},
   "outputs": [
    {
     "data": {
      "text/plain": [
       "{'name1': 69, 'name2': 78}"
      ]
     },
     "execution_count": 14,
     "metadata": {},
     "output_type": "execute_result"
    }
   ],
   "source": [
    "passed_students = {key: value for (key, value) in students_score.items() if value > 50}\n",
    "passed_students"
   ]
  },
  {
   "cell_type": "code",
   "execution_count": 15,
   "id": "b510f483",
   "metadata": {},
   "outputs": [],
   "source": [
    "test = [(1,2,3),(1,2,3),(1,24,5)]"
   ]
  },
  {
   "cell_type": "code",
   "execution_count": 16,
   "id": "2d6041c7",
   "metadata": {},
   "outputs": [
    {
     "name": "stdout",
     "output_type": "stream",
     "text": [
      "2\n",
      "2\n",
      "24\n"
     ]
    }
   ],
   "source": [
    "for (value1, value2, value3) in test:\n",
    "    print(value2)"
   ]
  },
  {
   "cell_type": "code",
   "execution_count": null,
   "id": "87022003",
   "metadata": {},
   "outputs": [],
   "source": []
  }
 ],
 "metadata": {
  "kernelspec": {
   "display_name": "Python 3 (ipykernel)",
   "language": "python",
   "name": "python3"
  },
  "language_info": {
   "codemirror_mode": {
    "name": "ipython",
    "version": 3
   },
   "file_extension": ".py",
   "mimetype": "text/x-python",
   "name": "python",
   "nbconvert_exporter": "python",
   "pygments_lexer": "ipython3",
   "version": "3.9.12"
  }
 },
 "nbformat": 4,
 "nbformat_minor": 5
}
