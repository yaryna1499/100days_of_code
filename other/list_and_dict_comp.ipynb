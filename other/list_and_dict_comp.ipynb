{
 "cells": [
  {
   "cell_type": "markdown",
   "id": "1c983849",
   "metadata": {},
   "source": [
    "### List comprehension"
   ]
  },
  {
   "cell_type": "code",
   "execution_count": 1,
   "id": "3fcea250",
   "metadata": {},
   "outputs": [
    {
     "data": {
      "text/plain": [
       "['1', '2', '3', '4', '5', '6', '7', '8', '9']"
      ]
     },
     "execution_count": 1,
     "metadata": {},
     "output_type": "execute_result"
    }
   ],
   "source": [
    "new_list = [str(i) for i in range(1, 10)]\n",
    "new_list"
   ]
  },
  {
   "cell_type": "code",
   "execution_count": 2,
   "id": "d318eb81",
   "metadata": {},
   "outputs": [
    {
     "data": {
      "text/plain": [
       "[4, 16, 36, 64]"
      ]
     },
     "execution_count": 2,
     "metadata": {},
     "output_type": "execute_result"
    }
   ],
   "source": [
    "new_list2 = [i**2 for i in range(1, 10) if i%2==0]\n",
    "new_list2"
   ]
  },
  {
   "cell_type": "markdown",
   "id": "98b2bc93",
   "metadata": {},
   "source": [
    "### Dictionary comprehension\n",
    "new_dict = {new_key:new_value for item in list}\n",
    "<br>\n",
    "new_dict = {new_key:new_value for (key, value) in dict.items()}\n",
    "<br>\n",
    "new_dict = {new_key:new_value for (key, value) in dict.items() if test}"
   ]
  },
  {
   "cell_type": "code",
   "execution_count": 3,
   "id": "10978a5c",
   "metadata": {},
   "outputs": [],
   "source": [
    "names = [\"name1\", \"name2\", \"name3\", \"name4\"]"
   ]
  },
  {
   "cell_type": "code",
   "execution_count": 4,
   "id": "75c637fc",
   "metadata": {},
   "outputs": [],
   "source": [
    "import random"
   ]
  },
  {
   "cell_type": "code",
   "execution_count": 5,
   "id": "2f11cccd",
   "metadata": {},
   "outputs": [
    {
     "data": {
      "text/plain": [
       "{'name1': 69, 'name2': 78, 'name3': 50, 'name4': 22}"
      ]
     },
     "execution_count": 5,
     "metadata": {},
     "output_type": "execute_result"
    }
   ],
   "source": [
    "students_score = {student: random.randint(1, 100) for student in names}\n",
    "students_score"
   ]
  },
  {
   "cell_type": "code",
   "execution_count": 8,
   "id": "ea1fde6b",
   "metadata": {},
   "outputs": [
    {
     "name": "stdout",
     "output_type": "stream",
     "text": [
      "dict_items([('name1', 69), ('name2', 78), ('name3', 50), ('name4', 22)])\n"
     ]
    },
    {
     "data": {
      "text/plain": [
       "dict_items"
      ]
     },
     "execution_count": 8,
     "metadata": {},
     "output_type": "execute_result"
    }
   ],
   "source": [
    "print(students_score.items())\n",
    "type(students_score.items())"
   ]
  },
  {
   "cell_type": "code",
   "execution_count": 14,
   "id": "e3dcf728",
   "metadata": {},
   "outputs": [
    {
     "data": {
      "text/plain": [
       "{'name1': 69, 'name2': 78}"
      ]
     },
     "execution_count": 14,
     "metadata": {},
     "output_type": "execute_result"
    }
   ],
   "source": [
    "passed_students = {key: value for (key, value) in students_score.items() if value > 50}\n",
    "passed_students"
   ]
  },
  {
   "cell_type": "code",
   "execution_count": 15,
   "id": "741cf3b7",
   "metadata": {},
   "outputs": [],
   "source": [
    "test = [(1,2,3),(1,2,3),(1,24,5)]"
   ]
  },
  {
   "cell_type": "code",
   "execution_count": 16,
   "id": "6c9d440f",
   "metadata": {},
   "outputs": [
    {
     "name": "stdout",
     "output_type": "stream",
     "text": [
      "2\n",
      "2\n",
      "24\n"
     ]
    }
   ],
   "source": [
    "for (value1, value2, value3) in test:\n",
    "    print(value2)"
   ]
  },
  {
   "cell_type": "markdown",
   "id": "4617022e",
   "metadata": {},
   "source": [
    "### How to iterate over pandas dataframe"
   ]
  },
  {
   "cell_type": "code",
   "execution_count": 17,
   "id": "9d7946e4",
   "metadata": {},
   "outputs": [],
   "source": [
    "student_dict = {\n",
    "    \"student\" : [\"Angela\", \"Lili\", \"James\"],\n",
    "    \"marks\" : [100, 51, 70]\n",
    "}"
   ]
  },
  {
   "cell_type": "code",
   "execution_count": 23,
   "id": "035a02a3",
   "metadata": {},
   "outputs": [
    {
     "name": "stdout",
     "output_type": "stream",
     "text": [
      "student ['Angela', 'Lili', 'James']\n",
      "marks [100, 51, 70]\n"
     ]
    }
   ],
   "source": [
    "for (key, value) in student_dict.items():\n",
    "    print(key, value)"
   ]
  },
  {
   "cell_type": "code",
   "execution_count": 18,
   "id": "cda645a2",
   "metadata": {},
   "outputs": [
    {
     "data": {
      "text/html": [
       "<div>\n",
       "<style scoped>\n",
       "    .dataframe tbody tr th:only-of-type {\n",
       "        vertical-align: middle;\n",
       "    }\n",
       "\n",
       "    .dataframe tbody tr th {\n",
       "        vertical-align: top;\n",
       "    }\n",
       "\n",
       "    .dataframe thead th {\n",
       "        text-align: right;\n",
       "    }\n",
       "</style>\n",
       "<table border=\"1\" class=\"dataframe\">\n",
       "  <thead>\n",
       "    <tr style=\"text-align: right;\">\n",
       "      <th></th>\n",
       "      <th>student</th>\n",
       "      <th>marks</th>\n",
       "    </tr>\n",
       "  </thead>\n",
       "  <tbody>\n",
       "    <tr>\n",
       "      <th>0</th>\n",
       "      <td>Angela</td>\n",
       "      <td>100</td>\n",
       "    </tr>\n",
       "    <tr>\n",
       "      <th>1</th>\n",
       "      <td>Lili</td>\n",
       "      <td>51</td>\n",
       "    </tr>\n",
       "    <tr>\n",
       "      <th>2</th>\n",
       "      <td>James</td>\n",
       "      <td>70</td>\n",
       "    </tr>\n",
       "  </tbody>\n",
       "</table>\n",
       "</div>"
      ],
      "text/plain": [
       "  student  marks\n",
       "0  Angela    100\n",
       "1    Lili     51\n",
       "2   James     70"
      ]
     },
     "execution_count": 18,
     "metadata": {},
     "output_type": "execute_result"
    }
   ],
   "source": [
    "import pandas\n",
    "student_dataframe = pandas.DataFrame(student_dict)\n",
    "student_dataframe"
   ]
  },
  {
   "cell_type": "code",
   "execution_count": 24,
   "id": "55f8eee7",
   "metadata": {},
   "outputs": [
    {
     "name": "stdout",
     "output_type": "stream",
     "text": [
      "0    Angela\n",
      "1      Lili\n",
      "2     James\n",
      "Name: student, dtype: object\n",
      "0    100\n",
      "1     51\n",
      "2     70\n",
      "Name: marks, dtype: int64\n"
     ]
    }
   ],
   "source": [
    "for (key, value) in student_dataframe.items():\n",
    "    print(value)"
   ]
  },
  {
   "cell_type": "code",
   "execution_count": 25,
   "id": "2055fe35",
   "metadata": {},
   "outputs": [
    {
     "name": "stdout",
     "output_type": "stream",
     "text": [
      "student    Angela\n",
      "marks         100\n",
      "Name: 0, dtype: object\n",
      "student    Lili\n",
      "marks        51\n",
      "Name: 1, dtype: object\n",
      "student    James\n",
      "marks         70\n",
      "Name: 2, dtype: object\n"
     ]
    }
   ],
   "source": [
    "# Loop through rows of the dataframe\n",
    "for (index, row) in student_dataframe.iterrows():\n",
    "    print(row)"
   ]
  },
  {
   "cell_type": "code",
   "execution_count": null,
   "id": "8c0872d3",
   "metadata": {},
   "outputs": [],
   "source": []
  }
 ],
 "metadata": {
  "kernelspec": {
   "display_name": "Python 3 (ipykernel)",
   "language": "python",
   "name": "python3"
  },
  "language_info": {
   "codemirror_mode": {
    "name": "ipython",
    "version": 3
   },
   "file_extension": ".py",
   "mimetype": "text/x-python",
   "name": "python",
   "nbconvert_exporter": "python",
   "pygments_lexer": "ipython3",
   "version": "3.9.12"
  }
 },
 "nbformat": 4,
 "nbformat_minor": 5
}
