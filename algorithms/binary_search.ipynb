{
 "cells": [
  {
   "cell_type": "markdown",
   "id": "4ae49d80",
   "metadata": {},
   "source": [
    "to revise bubble sort"
   ]
  },
  {
   "cell_type": "code",
   "execution_count": 2,
   "id": "f1aefce2",
   "metadata": {},
   "outputs": [],
   "source": [
    "my_list = [13,5,6,4,3,8,56,7,5,4]\n",
    "n = len(my_list)"
   ]
  },
  {
   "cell_type": "code",
   "execution_count": 4,
   "id": "31ff9744",
   "metadata": {},
   "outputs": [],
   "source": [
    "for i in range(n):\n",
    "    for j in range(n-1):\n",
    "        if my_list[j]>my_list[j+1]:\n",
    "            my_list[j], my_list[j+1] = my_list[j+1], my_list[j]"
   ]
  },
  {
   "cell_type": "code",
   "execution_count": 5,
   "id": "a4b9ed9d",
   "metadata": {},
   "outputs": [
    {
     "name": "stdout",
     "output_type": "stream",
     "text": [
      "3\n",
      "4\n",
      "4\n",
      "5\n",
      "5\n",
      "6\n",
      "7\n",
      "8\n",
      "13\n",
      "56\n"
     ]
    }
   ],
   "source": [
    "for i in my_list:\n",
    "    print(i)"
   ]
  },
  {
   "cell_type": "markdown",
   "id": "02f1644a",
   "metadata": {},
   "source": [
    "binary search(the list should be sorted)"
   ]
  },
  {
   "cell_type": "code",
   "execution_count": 8,
   "id": "7fd24d0a",
   "metadata": {},
   "outputs": [
    {
     "data": {
      "text/plain": [
       "['Vova', 'Max', 'Vlad', 'Sofia', 'Anya', 'Svitlana']"
      ]
     },
     "execution_count": 8,
     "metadata": {},
     "output_type": "execute_result"
    }
   ],
   "source": [
    "names = ['Vova','Max','Vlad','Sofia','Anya','Svitlana']\n",
    "names"
   ]
  },
  {
   "cell_type": "code",
   "execution_count": 9,
   "id": "22dd1256",
   "metadata": {},
   "outputs": [
    {
     "data": {
      "text/plain": [
       "['Anya', 'Max', 'Sofia', 'Svitlana', 'Vlad', 'Vova']"
      ]
     },
     "execution_count": 9,
     "metadata": {},
     "output_type": "execute_result"
    }
   ],
   "source": [
    "names.sort()\n",
    "names"
   ]
  },
  {
   "cell_type": "code",
   "execution_count": 24,
   "id": "93aef169",
   "metadata": {},
   "outputs": [],
   "source": [
    "def binary_search(the_list, item):\n",
    "    start = 0\n",
    "    finish = len(the_list)-1\n",
    "    while start <= finish:\n",
    "        middle = (start+finish)//2\n",
    "        guess = the_list[middle]\n",
    "        if guess == item:\n",
    "            return middle\n",
    "        elif guess > item:\n",
    "            finish = middle - 1\n",
    "        else:\n",
    "            start = middle + 1\n",
    "    return None"
   ]
  },
  {
   "cell_type": "code",
   "execution_count": 26,
   "id": "dc2c4189",
   "metadata": {},
   "outputs": [
    {
     "data": {
      "text/plain": [
       "0"
      ]
     },
     "execution_count": 26,
     "metadata": {},
     "output_type": "execute_result"
    }
   ],
   "source": [
    "binary_search([1,2,3,4,5,6,7,8], 1)"
   ]
  },
  {
   "cell_type": "code",
   "execution_count": 27,
   "id": "1e8d9296",
   "metadata": {},
   "outputs": [
    {
     "data": {
      "text/plain": [
       "5"
      ]
     },
     "execution_count": 27,
     "metadata": {},
     "output_type": "execute_result"
    }
   ],
   "source": [
    "binary_search(names, 'Vova')"
   ]
  },
  {
   "cell_type": "code",
   "execution_count": null,
   "id": "f5c4709d",
   "metadata": {},
   "outputs": [],
   "source": []
  }
 ],
 "metadata": {
  "kernelspec": {
   "display_name": "Python 3 (ipykernel)",
   "language": "python",
   "name": "python3"
  },
  "language_info": {
   "codemirror_mode": {
    "name": "ipython",
    "version": 3
   },
   "file_extension": ".py",
   "mimetype": "text/x-python",
   "name": "python",
   "nbconvert_exporter": "python",
   "pygments_lexer": "ipython3",
   "version": "3.9.12"
  }
 },
 "nbformat": 4,
 "nbformat_minor": 5
}
